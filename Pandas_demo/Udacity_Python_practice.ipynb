{
 "cells": [
  {
   "cell_type": "markdown",
   "id": "4ef62af4",
   "metadata": {},
   "source": [
    "# Coin Flips and Die Rolls\n",
    "Use NumPy to create simulations and compute proportions for the following outcomes. The first one is done for you.\n",
    "\n",
    "**Please note again that we are using 0 to represent heads, and 1 to represent tails.**"
   ]
  },
  {
   "cell_type": "code",
   "execution_count": 41,
   "id": "e0f46d6c",
   "metadata": {},
   "outputs": [],
   "source": [
    "import numpy as np\n",
    "import random\n",
    "import matplotlib.pyplot as plt\n",
    "%matplotlib inline\n"
   ]
  },
  {
   "cell_type": "markdown",
   "id": "d85073f1",
   "metadata": {},
   "source": [
    "### Using Randint"
   ]
  },
  {
   "cell_type": "code",
   "execution_count": 16,
   "id": "37be42a4",
   "metadata": {},
   "outputs": [
    {
     "data": {
      "text/plain": [
       "0"
      ]
     },
     "execution_count": 16,
     "metadata": {},
     "output_type": "execute_result"
    }
   ],
   "source": [
    "# outcome of one coin flip\n",
    "np.random.randint(2)"
   ]
  },
  {
   "cell_type": "code",
   "execution_count": 17,
   "id": "5070be8b",
   "metadata": {},
   "outputs": [
    {
     "data": {
      "text/plain": [
       "array([0, 0, 0, ..., 0, 1, 0])"
      ]
     },
     "execution_count": 17,
     "metadata": {},
     "output_type": "execute_result"
    }
   ],
   "source": [
    "# outcomes of ten thousand coin flips\n",
    "np.random.randint(2, size=10000)"
   ]
  },
  {
   "cell_type": "code",
   "execution_count": 19,
   "id": "b8a3fad0",
   "metadata": {},
   "outputs": [
    {
     "data": {
      "text/plain": [
       "0.4957"
      ]
     },
     "execution_count": 19,
     "metadata": {},
     "output_type": "execute_result"
    }
   ],
   "source": [
    "# mean outcome of ten thousand coin flips\n",
    "np.random.randint(2, size=10000).mean()"
   ]
  },
  {
   "cell_type": "markdown",
   "id": "45674de9",
   "metadata": {},
   "source": [
    "### Using Choice"
   ]
  },
  {
   "cell_type": "code",
   "execution_count": 18,
   "id": "215fc46f",
   "metadata": {},
   "outputs": [
    {
     "data": {
      "text/plain": [
       "0"
      ]
     },
     "execution_count": 18,
     "metadata": {},
     "output_type": "execute_result"
    }
   ],
   "source": [
    "# outcome of one coin flip\n",
    "np.random.choice([0, 1])"
   ]
  },
  {
   "cell_type": "code",
   "execution_count": 20,
   "id": "238a64e9",
   "metadata": {},
   "outputs": [
    {
     "data": {
      "text/plain": [
       "array([1, 0, 1, ..., 0, 1, 1])"
      ]
     },
     "execution_count": 20,
     "metadata": {},
     "output_type": "execute_result"
    }
   ],
   "source": [
    "# outcome of ten thousand coin flips\n",
    "np.random.choice([0, 1], size=10000)"
   ]
  },
  {
   "cell_type": "code",
   "execution_count": 21,
   "id": "dc9bfbc4",
   "metadata": {},
   "outputs": [
    {
     "data": {
      "text/plain": [
       "0.4982"
      ]
     },
     "execution_count": 21,
     "metadata": {},
     "output_type": "execute_result"
    }
   ],
   "source": [
    "# mean outcome of ten thousand coin flips\n",
    "np.random.choice([0,1], size=10000).mean()"
   ]
  },
  {
   "cell_type": "code",
   "execution_count": 35,
   "id": "0c05b1ba",
   "metadata": {},
   "outputs": [
    {
     "data": {
      "text/plain": [
       "array([0, 0, 0, ..., 0, 0, 0])"
      ]
     },
     "execution_count": 35,
     "metadata": {},
     "output_type": "execute_result"
    }
   ],
   "source": [
    "# outcomes of ten thousand biased coin flips\n",
    "np.random.choice([0,1], size=10000, p=[0.8,0.2])"
   ]
  },
  {
   "cell_type": "code",
   "execution_count": 36,
   "id": "241dc8d5",
   "metadata": {},
   "outputs": [
    {
     "data": {
      "text/plain": [
       "0.1972"
      ]
     },
     "execution_count": 36,
     "metadata": {},
     "output_type": "execute_result"
    }
   ],
   "source": [
    "# mean outcome of ten thousand biased coin flips\n",
    "np.random.choice([0,1], size=10000, p=[0.8,0.2]).mean()"
   ]
  },
  {
   "cell_type": "markdown",
   "id": "7e431610",
   "metadata": {},
   "source": [
    "### 1. Two fair coin flips produce exactly two heads"
   ]
  },
  {
   "cell_type": "code",
   "execution_count": 56,
   "id": "fca38f16",
   "metadata": {},
   "outputs": [
    {
     "data": {
      "text/plain": [
       "0.249573"
      ]
     },
     "execution_count": 56,
     "metadata": {},
     "output_type": "execute_result"
    }
   ],
   "source": [
    "\n",
    "# simulate 1 million tests of two fair coin flips\n",
    "tests = np.random.randint(2, size=(int(1e6), 2))\n",
    "\n",
    "# sums of all tests \n",
    "test_sums = tests.sum(axis=1)\n",
    "\n",
    "# proportion of tests that produced exactly two heads #as two head are represented by zero , to have\n",
    "(test_sums == 0).mean()"
   ]
  },
  {
   "cell_type": "markdown",
   "id": "4ee116c8",
   "metadata": {},
   "source": [
    "### 2. Three fair coin flips produce exactly one head"
   ]
  },
  {
   "cell_type": "code",
   "execution_count": 16,
   "id": "a7739f3b",
   "metadata": {},
   "outputs": [
    {
     "data": {
      "text/plain": [
       "0.374645"
      ]
     },
     "execution_count": 16,
     "metadata": {},
     "output_type": "execute_result"
    }
   ],
   "source": [
    "# simulate 1 million tests of three fair coin flips\n",
    "tests = np.random.randint(2,size=(int(1e6),3))\n",
    "tests\n",
    "# sums of all tests\n",
    "test_sums = tests.sum(1)\n",
    "test_sums\n",
    "# proportion of tests that produced exactly one head #So, the remaining are tails that add to 2\n",
    "(test_sums==2).mean()"
   ]
  },
  {
   "cell_type": "markdown",
   "id": "fcc20365",
   "metadata": {},
   "source": [
    "### 3. Three biased coin flips with P(H) = 0.6 produce exactly one head"
   ]
  },
  {
   "cell_type": "code",
   "execution_count": 18,
   "id": "744387fb",
   "metadata": {},
   "outputs": [
    {
     "data": {
      "text/plain": [
       "0.286983"
      ]
     },
     "execution_count": 18,
     "metadata": {},
     "output_type": "execute_result"
    }
   ],
   "source": [
    "# simulate 1 million tests of three fair coin flips\n",
    "# hint: use np.random.choice()\n",
    "tests = np.random.choice(2,size=(int(1e6),3),p=[0.6,0.4])\n",
    "tests\n",
    "# sums of all tests\n",
    "test_sums = tests.sum(1)\n",
    "test_sums\n",
    "# proportion of tests that produced exactly one head #So, the remaining are tails that add to 2\n",
    "(test_sums==2).mean()"
   ]
  },
  {
   "cell_type": "markdown",
   "id": "f03b5113",
   "metadata": {},
   "source": [
    "### 4.A die rolls an even number"
   ]
  },
  {
   "cell_type": "code",
   "execution_count": 31,
   "id": "e6a77441",
   "metadata": {},
   "outputs": [
    {
     "data": {
      "text/plain": [
       "0.571427"
      ]
     },
     "execution_count": 31,
     "metadata": {},
     "output_type": "execute_result"
    }
   ],
   "source": [
    "# simulate 1 million tests of one die roll\n",
    "test = np.random.randint(7,size= (int(1e6),1))\n",
    "\n",
    "#or\n",
    "tests = np.random.choice(np.arange(1, 7), size=int(1e6))\n",
    "\n",
    "# proportion of tests that produced an even number\n",
    "(test%2==0).mean()"
   ]
  },
  {
   "cell_type": "markdown",
   "id": "0563addf",
   "metadata": {},
   "source": [
    "### 5.Two dice roll a double"
   ]
  },
  {
   "cell_type": "code",
   "execution_count": 64,
   "id": "af76149b",
   "metadata": {},
   "outputs": [
    {
     "data": {
      "text/plain": [
       "0.142656"
      ]
     },
     "execution_count": 64,
     "metadata": {},
     "output_type": "execute_result"
    }
   ],
   "source": [
    "# simulate the first million die rolls\n",
    "first =  np.random.randint(7,size= (int(1e6),1))\n",
    "\n",
    "# simulate the second million die rolls\n",
    "second =  np.random.randint(7,size= (int(1e6),1))\n",
    "\n",
    "\n",
    "# proportion of tests where the 1st and 2nd die rolled the same number\n",
    "(first == second).mean()"
   ]
  },
  {
   "cell_type": "code",
   "execution_count": 65,
   "id": "d45c1136",
   "metadata": {},
   "outputs": [
    {
     "data": {
      "text/plain": [
       "0.166204"
      ]
     },
     "execution_count": 65,
     "metadata": {},
     "output_type": "execute_result"
    }
   ],
   "source": [
    "# simulate the first million die rolls\n",
    "first = np.random.choice(np.arange(6), size=int(1e6))\n",
    "\n",
    "# simulate the second million die rolls\n",
    "second = np.random.choice(np.arange(6), size=int(1e6))\n",
    "\n",
    "# proportion of tests where the 1st and 2nd die rolled the same number\n",
    "(first == second).mean()"
   ]
  },
  {
   "cell_type": "code",
   "execution_count": null,
   "id": "836c0e28",
   "metadata": {},
   "outputs": [],
   "source": []
  }
 ],
 "metadata": {
  "kernelspec": {
   "display_name": "Python 3",
   "language": "python",
   "name": "python3"
  },
  "language_info": {
   "codemirror_mode": {
    "name": "ipython",
    "version": 3
   },
   "file_extension": ".py",
   "mimetype": "text/x-python",
   "name": "python",
   "nbconvert_exporter": "python",
   "pygments_lexer": "ipython3",
   "version": "3.9.0"
  }
 },
 "nbformat": 4,
 "nbformat_minor": 5
}
